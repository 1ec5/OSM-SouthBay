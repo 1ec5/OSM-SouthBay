{
 "cells": [
  {
   "cell_type": "code",
   "execution_count": 2,
   "metadata": {},
   "outputs": [],
   "source": [
    "import geopandas as gpd\n",
    "import pandas as pd\n",
    "import sqlalchemy as sal\n",
    "from sqlalchemy import create_engine"
   ]
  },
  {
   "cell_type": "code",
   "execution_count": 19,
   "metadata": {},
   "outputs": [],
   "source": [
    "engine = sal.create_engine(\"postgresql://alvessr@localhost/svosm\")\n",
    "conn = engine.connect()"
   ]
  },
  {
   "cell_type": "code",
   "execution_count": 8,
   "metadata": {
    "scrolled": true
   },
   "outputs": [
    {
     "name": "stdout",
     "output_type": "stream",
     "text": [
      "/home/alvessr/Repos/OSM-SouthBay/SJ_Buildings\r\n"
     ]
    }
   ],
   "source": [
    "!pwd"
   ]
  },
  {
   "cell_type": "code",
   "execution_count": 9,
   "metadata": {},
   "outputs": [],
   "source": [
    "buildings = gpd.read_file('data/BuildingFootprint.geojson')"
   ]
  },
  {
   "cell_type": "code",
   "execution_count": 10,
   "metadata": {},
   "outputs": [],
   "source": [
    "addresses = gpd.read_file('data/Site_Address_Points.geojson')"
   ]
  },
  {
   "cell_type": "code",
   "execution_count": 11,
   "metadata": {},
   "outputs": [],
   "source": [
    "parcels = gpd.read_file('data/Parcel.geojson')"
   ]
  },
  {
   "cell_type": "code",
   "execution_count": 12,
   "metadata": {},
   "outputs": [],
   "source": [
    "condoparcels = gpd.read_file('data/CondoParcel.geojson')"
   ]
  },
  {
   "cell_type": "code",
   "execution_count": 20,
   "metadata": {},
   "outputs": [],
   "source": [
    "# Connect to database using a context manager\n",
    "gdf.to_sql(table_name, con=conn, if_exists='append', index=False)"
   ]
  },
  {
   "cell_type": "code",
   "execution_count": 13,
   "metadata": {},
   "outputs": [],
   "source": [
    "def wkb_hexer(line):\n",
    "    return line.wkb_hex\n",
    "\n",
    "gdf = buildings\n",
    "# Convert `'geom'` column in GeoDataFrame `gdf` to hex\n",
    "# Note that following this step, the GeoDataFrame is just a regular DataFrame\n",
    "# because it does not have a geometry column anymore. Also note that\n",
    "# it is assumed the `'geom'` column is correctly datatyped.\n",
    "gdf['geom'] = gdf['geometry'].apply(wkb_hexer)\n",
    "\n",
    "# Delete extra WKT geometry colum.\n",
    "del gdf['geometry']\n",
    "\n",
    "# Empty column.\n",
    "del gdf['LENGTH']\n",
    "del gdf['SHAPE_AREA']\n",
    "\n",
    "table_name = 'buildings'\n",
    "\n",
    "# Connect to database using a context manager\n",
    "gdf.to_sql(table_name, con=conn, if_exists='append', index=False)"
   ]
  },
  {
   "cell_type": "code",
   "execution_count": 21,
   "metadata": {},
   "outputs": [
    {
     "data": {
      "text/plain": [
       "<sqlalchemy.engine.result.ResultProxy at 0x7fd25ba0b950>"
      ]
     },
     "execution_count": 21,
     "metadata": {},
     "output_type": "execute_result"
    }
   ],
   "source": [
    "#C onvert the geom column to a geometry.\n",
    "sql = \"\"\"ALTER TABLE %s\n",
    "ALTER COLUMN geom TYPE Geometry(MULTIPOLYGON, 4326)\n",
    "                  USING ST_SetSRID(geom::Geometry, 4326)\"\"\" % (table_name)\n",
    "conn.execute(sql)"
   ]
  },
  {
   "cell_type": "code",
   "execution_count": null,
   "metadata": {},
   "outputs": [],
   "source": []
  }
 ],
 "metadata": {
  "kernelspec": {
   "display_name": "Python 3",
   "language": "python",
   "name": "python3"
  },
  "language_info": {
   "codemirror_mode": {
    "name": "ipython",
    "version": 3
   },
   "file_extension": ".py",
   "mimetype": "text/x-python",
   "name": "python",
   "nbconvert_exporter": "python",
   "pygments_lexer": "ipython3",
   "version": "3.7.4"
  }
 },
 "nbformat": 4,
 "nbformat_minor": 2
}
